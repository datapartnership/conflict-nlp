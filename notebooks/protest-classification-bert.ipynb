{
 "cells": [
  {
   "cell_type": "markdown",
   "metadata": {},
   "source": [
    "# Conflict in Iran"
   ]
  },
  {
   "cell_type": "code",
   "execution_count": 1,
   "metadata": {
    "tags": [
     "remove-cell"
    ]
   },
   "outputs": [],
   "source": [
    "import os\n",
    "from pathlib import Path\n",
    "\n",
    "import pandas as pd\n",
    "import geopandas as gpd\n",
    "\n",
    "from datetime import datetime\n",
    "\n",
    "import bokeh\n",
    "from bokeh.models import Tabs, TabPanel\n",
    "from bokeh.core.validation.warnings import EMPTY_LAYOUT, MISSING_RENDERERS\n",
    "from bokeh.plotting import show, output_notebook\n",
    "\n",
    "from langchain_openai import OpenAI, ChatOpenAI\n",
    "from langchain.prompts import PromptTemplate\n",
    "from langchain.chains import LLMChain\n",
    "\n",
    "from dotenv import load_dotenv\n"
   ]
  },
  {
   "cell_type": "code",
   "execution_count": 2,
   "metadata": {
    "tags": [
     "remove-cell"
    ]
   },
   "outputs": [],
   "source": [
    "# ==================\n",
    "# SETUP INPUT\n",
    "# ==================\n",
    "DIR_DATA =  Path.cwd().parents[1].joinpath(\"data\", \"conflict\")\n",
    "FILE_PROTESTS = DIR_DATA.joinpath(\"protests_iran_20160101_20241009.csv\")"
   ]
  },
  {
   "cell_type": "code",
   "execution_count": 3,
   "metadata": {},
   "outputs": [],
   "source": [
    "df = pd.read_csv(FILE_PROTESTS, dtype=str)"
   ]
  },
  {
   "cell_type": "code",
   "execution_count": 5,
   "metadata": {},
   "outputs": [],
   "source": [
    "documents = df['notes'].tolist()\n",
    "documents = [doc for doc in documents if isinstance(doc, str) and len(doc.strip()) > 0]"
   ]
  },
  {
   "cell_type": "code",
   "execution_count": null,
   "metadata": {},
   "outputs": [],
   "source": [
    "# Step 2: Initialize the LLM (OpenAI in this case)\n",
    "llm = ChatOpenAI(temperature=0.7)\n",
    "\n",
    "# Step 3: Define a prompt template for classification\n",
    "classification_prompt_template = \"\"\"\n",
    "You are a highly intelligent assistant. Your task is to classify each document as either \"Political\" or \"Economic.\"\n",
    "Given the following document:\n",
    "{document}\n",
    "\n",
    "Is this document Political or Economic? Please respond with either \"Political\" or \"Economic.\"\n",
    "\"\"\"\n",
    "\n",
    "# Create a prompt template using Langchain\n",
    "classification_prompt = PromptTemplate(\n",
    "    input_variables=[\"document\"],\n",
    "    template=classification_prompt_template\n",
    ")\n",
    "\n",
    "# Step 4: Create a Langchain with the LLM and the classification prompt template\n",
    "classification_chain = LLMChain(\n",
    "    llm=llm,\n",
    "    prompt=classification_prompt\n",
    ")\n",
    "\n",
    "# Step 5: Classify each document and store results\n",
    "classifications = []\n",
    "for doc in documents[:10]:  # Limit to 10 documents for testing purposes\n",
    "    result = classification_chain.run(document=doc)\n",
    "    classifications.append(result.strip())  # Clean up whitespace from the result\n",
    "\n",
    "# Step 6: Add the classification results to the DataFrame as a new column\n",
    "df['classification'] = classifications + [None] * (len(df) - len(classifications))  # Add None for remaining rows if fewer docs were classified\n",
    "\n"
   ]
  },
  {
   "cell_type": "code",
   "execution_count": 11,
   "metadata": {},
   "outputs": [
    {
     "data": {
      "text/plain": [
       "3009000"
      ]
     },
     "execution_count": 11,
     "metadata": {},
     "output_type": "execute_result"
    }
   ],
   "source": [
    "documents"
   ]
  },
  {
   "cell_type": "code",
   "execution_count": 8,
   "metadata": {},
   "outputs": [
    {
     "data": {
      "text/plain": [
       "classification\n",
       "Political                      6\n",
       "This document is Political.    3\n",
       "This document is Economic.     1\n",
       "Name: count, dtype: int64"
      ]
     },
     "execution_count": 8,
     "metadata": {},
     "output_type": "execute_result"
    }
   ],
   "source": [
    "df.classification.value_counts()"
   ]
  },
  {
   "cell_type": "markdown",
   "metadata": {},
   "source": [
    "## Overview\n",
    "\n",
    "Since the Shia Islamic Revolution and subsequent creation of the Islamic Republic of Iran in 1979, the country has been mired in conflict. Conflict causes the reversal of short term and long term economic growth {cite}`le2022economic`. Within this analysis, we extract, and visualize the trend of conflict events and fatalities associated with conflict events in the Islamic Republic of Iran from 2016 to 2024. \n",
    "\n",
    "\n",
    "## Data\n",
    "\n",
    "### Armed Conflict Location & Event Data\n",
    "\n",
    "The Armed Conflict Location & Event Data Project (ACLED) is a disaggregated data collection, analysis, and crisis mapping project. ACLED collects information on the dates, actors, locations, fatalities, and types of all reported political violence and protest events around the world. Access to this data is via a contract between the World bank and ACLED and can be extracted by any World Bank employee upon registering for an API key. \n",
    "\n",
    "ACLED data is available for every day since 2016. The data is released with the exact latitude and longitude coordinates of the reported conflict event. The data is collected from four main types of sources - traditional media, reports, local partner data and new media (targeted and verified). ACLED researchers systematically cover thousands of distinct sources in over 75 languages. Sourcing lists are carefully curated and monitored to maintain accurate coverage. More about the methodology can be found in their [codebook](https://acleddata.com/knowledge-base/codebook/#sources-and-information-sourcing).\n",
    "\n",
    "Every ACLED event is based on at least one source. The source names or acronyms are noted in the ‘Source’ column. With the exception of certain local sources that wish to remain anonymous, the ‘Source’ column details are sufficient to retrace the sources that have been used to record an event. All sources listed have contributed information to the event. Researchers often find multiple reports confirming details about an event; when multiple sources report on the same information, the most thorough, reliable, and recent report is cited. The ACLED team corrects some of their past entries as they get new information about the reported conflict. \n",
    "\n",
    "Data prior to 2016 is not available for this specific country. The Data Lab team reached out to the ACLED team to understand why this is currently the case. \n",
    "\n",
    "ACLED data contains 6 main types of conflict events - protests, riots, strategic developments, violence against civilians, battles and explosions/remote violence. \n",
    "\n",
    "\n",
    "## Methodology and Implementation\n",
    "\n",
    "ACLED data are analysed and aggregated to admin levels gathered from [HdX](https://data.humdata.org/). The number of fatalities and conflicts are then shown by different event types and different admin regions. \n",
    "\n",
    "Following this, the data were mapped using both open source tools and Tableau. \n",
    "\n",
    "**You can find the processed files, dynamic maps and statis images in the [SharePoint folder](https://worldbankgroup.sharepoint.com/teams/DevelopmentDataPartnershipCommunity-WBGroup/Shared%20Documents/Forms/AllItems.aspx?id=%2Fteams%2FDevelopmentDataPartnershipCommunity%2DWBGroup%2FShared%20Documents%2FProjects%2FData%20Lab%2FIran%20Economic%20Monitoring%2FData%2Fconflict&viewid=80cdadb3%2D8bb3%2D47ae%2D8b18%2Dc1dd89c373c5)**\n",
    "\n",
    "## Findings"
   ]
  },
  {
   "cell_type": "markdown",
   "metadata": {
    "tags": [
     "remove-cell"
    ]
   },
   "source": [
    "Write the raw data to a file and read from it. This is to avoid running the API again in case of having to restart kernel/continue analysis"
   ]
  },
  {
   "cell_type": "code",
   "execution_count": 13,
   "metadata": {
    "tags": [
     "remove-cell"
    ]
   },
   "outputs": [],
   "source": [
    "countries_of_interest = [\"Iran\"]\n",
    "START_DATE = \"2012-01-01\"\n",
    "END_DATE = \"2024-05-10\""
   ]
  },
  {
   "cell_type": "code",
   "execution_count": 14,
   "metadata": {
    "tags": [
     "remove-cell"
    ]
   },
   "outputs": [],
   "source": [
    "iran_adm0 = gpd.read_file(\n",
    "    \"../../data/boundaries/irn_admbnda_adm0_unhcr_20190514.shp\")\n",
    "iran_adm1 = gpd.read_file(\n",
    "    \"../../data/boundaries/irn_admbnda_adm1_unhcr_20190514.shp\")\n",
    "iran_adm2 = gpd.read_file(\n",
    "    \"../../data/boundaries/irn_admbnda_adm2_unhcr_20190514.shp\")\n",
    "iran_adm_all = gpd.read_file(\n",
    "    \"../../data/boundaries/irn_admbndl_admALL_unhcr_itos_20190514.shp\")"
   ]
  },
  {
   "cell_type": "code",
   "execution_count": 21,
   "metadata": {
    "tags": [
     "remove-cell"
    ]
   },
   "outputs": [],
   "source": [
    "data = extraction.acled_api(\n",
    "    email_address=os.environ.get(\"ACLED_EMAIL\"),\n",
    "    access_key=os.environ.get(\"ACLED_KEY\"),\n",
    "    countries=countries_of_interest,\n",
    "    start_date=START_DATE,\n",
    "    end_date=END_DATE\n",
    ")\n"
   ]
  },
  {
   "cell_type": "code",
   "execution_count": 26,
   "metadata": {
    "tags": [
     "remove-cell"
    ]
   },
   "outputs": [],
   "source": [
    "analysis.data_type_conversion(data)"
   ]
  },
  {
   "cell_type": "code",
   "execution_count": 117,
   "metadata": {
    "tags": [
     "remove-cell"
    ]
   },
   "outputs": [],
   "source": [
    "acled_adm0_annual = analysis.get_acled_by_admin(iran_adm0, data, columns=[\"ADM0_EN\"], freq=\"YS\")\n",
    "conflict_monthly = analysis.get_acled_by_group(data, columns=[\"country\", \"latitude\", \"longitude\"], freq=\"MS\")\n",
    "acled_adm0 = analysis.get_acled_by_admin(iran_adm0, data, columns=[\"ADM0_EN\"], freq=\"MS\")"
   ]
  },
  {
   "cell_type": "code",
   "execution_count": null,
   "metadata": {
    "tags": [
     "remove-cell"
    ]
   },
   "outputs": [],
   "source": [
    "events_dict = {'protests':{datetime(2022, 9,16):'Mahsa Amini\\nDeath',\n",
    "               \n",
    "               datetime(2019,2,13):'Khash-Zahedan\\nsuicide bombing',\n",
    "               datetime(2022,10,26):'Shah Cherag\\nMassacre',\n",
    "               datetime(2019, 11,15):'Bloody Aban',\n",
    "               datetime(2024, 1,3):'Kerman\\nBombings',\n",
    "               datetime(2020, 1,3): 'Qasem Soleimani\\nAssassination'\n",
    "               #datetime(2022, 10,5): 'West Azerbaijan\\nEarthquake',\n",
    "               }}"
   ]
  },
  {
   "cell_type": "markdown",
   "metadata": {},
   "source": [
    "### Annual and Monthly Conflict Trends"
   ]
  },
  {
   "cell_type": "code",
   "execution_count": null,
   "metadata": {
    "tags": [
     "remove-input"
    ]
   },
   "outputs": [],
   "source": [
    "# output_file(\"bokeh_plot.html\")\n",
    "output_notebook()\n",
    "bokeh.core.validation.silence(EMPTY_LAYOUT, True)\n",
    "bokeh.core.validation.silence(MISSING_RENDERERS, True)\n",
    "\n",
    "tabs = []\n",
    "titles = [\n",
    "    \"Number of annual fatalities at a national level\",\n",
    "    \"Number of annual conflict events at a national level\",\n",
    "]\n",
    "\n",
    "for idx, type in enumerate([\"nrFatalities\", \"nrEvents\"]):\n",
    "    tabs.append(\n",
    "        TabPanel(\n",
    "            child=visuals.get_line_plot(\n",
    "                acled_adm0_annual,\n",
    "                f\"{titles[idx]}\",\n",
    "                \"Source: ACLED. Accessed 19th September 2024\",\n",
    "                subtitle=\"\",\n",
    "                category=\"ADM0_EN\",\n",
    "                measure=type,\n",
    "                #events_dict = events_dict\n",
    "            ),\n",
    "            title=type.capitalize(),\n",
    "        )\n",
    "    )\n",
    "\n",
    "tabs = Tabs(tabs=tabs, sizing_mode=\"scale_both\")\n",
    "show(tabs, warn_on_missing_glyphs=False)"
   ]
  },
  {
   "cell_type": "markdown",
   "metadata": {},
   "source": [
    "**There are significantly higher fatalities in 2019 and 2022.**\n",
    "\n",
    "However, the number of events in 2018 were higher than 2019. Although the number of fatalities reduced since 2022, the number of conflict events remain high in 2023. 2024 has seen a significant drop. However, it would be best to compare at the end of the year.  \n",
    "\n",
    "To understand the peaks, we plot a monthly trend along with markers for major events. "
   ]
  },
  {
   "cell_type": "code",
   "execution_count": null,
   "metadata": {
    "tags": [
     "remove-input"
    ]
   },
   "outputs": [],
   "source": [
    "# output_file(\"bokeh_plot.html\")\n",
    "output_notebook()\n",
    "bokeh.core.validation.silence(EMPTY_LAYOUT, True)\n",
    "bokeh.core.validation.silence(MISSING_RENDERERS, True)\n",
    "\n",
    "tabs = []\n",
    "titles = [\n",
    "    \"Number of monthly conflict events at a national level\",\n",
    "    \"Number of monthly fatalities at a national level\",\n",
    "]\n",
    "\n",
    "for idx, type in enumerate([\"nrFatalities\", \"nrEvents\"]):\n",
    "    tabs.append(\n",
    "        TabPanel(\n",
    "            child=visuals.get_line_plot(\n",
    "                acled_adm0,\n",
    "                f\"{titles[idx]}\",\n",
    "                \"Source: ACLED. Accessed 19th September 2024.\",\n",
    "                subtitle=\"\",\n",
    "                category=\"ADM0_EN\",\n",
    "                measure=type,\n",
    "                events_dict = events_dict\n",
    "            ),\n",
    "            title=type.capitalize(),\n",
    "        )\n",
    "    )\n",
    "\n",
    "tabs = Tabs(tabs=tabs, sizing_mode=\"scale_both\")\n",
    "show(tabs, warn_on_missing_glyphs=False)"
   ]
  },
  {
   "cell_type": "markdown",
   "metadata": {},
   "source": [
    "**All the major peaks correspond to significant conflict events, thereby validating the data.** \n",
    "\n",
    "Bloody Aban, or Bloody November and the death of Mahsa Amini which triggered a series of protests of riots within the country killing many. "
   ]
  },
  {
   "cell_type": "code",
   "execution_count": null,
   "metadata": {
    "tags": [
     "remove-input"
    ]
   },
   "outputs": [],
   "source": [
    "visuals.get_animated_map(conflict_monthly, 'Iran', 50,'nrFatalities','P1M')"
   ]
  },
  {
   "cell_type": "markdown",
   "metadata": {},
   "source": [
    "**The notherwestern part of the country has greater conflict than everywhere else. That is also the part of the country that shares a border with Iraq, Turkiye, Armenia and Azerbaijan.** \n",
    "\n",
    "2019 and 2022 were particularly brutal years. The worst hit provinces in terms of fatalities, from 2016 till date are Sistan and Baluchestan, West Azerbaijan, Tehran, Kurdistan, and Khuzestan in that order. Below is a trend line of conflict events and fatalities in these 5 provinces. "
   ]
  },
  {
   "cell_type": "code",
   "execution_count": 44,
   "metadata": {
    "tags": [
     "remove-cell"
    ]
   },
   "outputs": [],
   "source": [
    "acled_adm1_annual = analysis.get_acled_by_admin(iran_adm1, data, columns=[\"ADM0_EN\",\"ADM1_EN\"], freq=\"YS\")\n",
    "worst_fatalities_all_time = list(acled_adm1_annual.groupby(['ADM1_EN'])[['nrEvents', 'nrFatalities']].sum().reset_index().sort_values(by='nrFatalities', ascending=False).head(5)['ADM1_EN'])"
   ]
  },
  {
   "cell_type": "markdown",
   "metadata": {},
   "source": [
    "### Conflict by Province"
   ]
  },
  {
   "cell_type": "code",
   "execution_count": null,
   "metadata": {
    "tags": [
     "remove-input"
    ]
   },
   "outputs": [],
   "source": [
    "output_notebook()\n",
    "bokeh.core.validation.silence(EMPTY_LAYOUT, True)\n",
    "bokeh.core.validation.silence(MISSING_RENDERERS, True)\n",
    "\n",
    "tabs = []\n",
    "titles = [\"Number of conflict events\", \"Number of fatalities\"]\n",
    "\n",
    "for idx, type in enumerate([\"nrFatalities\", \"nrEvents\"]):\n",
    "    tabs.append(\n",
    "        TabPanel(\n",
    "            child=visuals.get_line_plot(\n",
    "                acled_adm1[acled_adm1['ADM1_EN'].isin(worst_fatalities_all_time)],\n",
    "                f\"{titles[idx]} by province\",\n",
    "                \"Source: ACLED. Accessed 19th September 2024\",\n",
    "                subtitle=\"\",\n",
    "                category=\"ADM1_EN\",\n",
    "                measure=type,\n",
    "            ),\n",
    "            title=type.capitalize(),\n",
    "        )\n",
    "    )\n",
    "\n",
    "tabs = Tabs(tabs=tabs, sizing_mode=\"scale_both\")\n",
    "show(tabs, warn_on_missing_glyphs=False)"
   ]
  },
  {
   "cell_type": "code",
   "execution_count": null,
   "metadata": {
    "tags": [
     "remove-input"
    ]
   },
   "outputs": [],
   "source": [
    "acled_adm1_annual.groupby(['ADM1_EN'])[['nrEvents', 'fatalities']].sum().reset_index().sort_values(by='fatalities', ascending=False).head(5).reset_index(drop=True)"
   ]
  },
  {
   "cell_type": "markdown",
   "metadata": {},
   "source": [
    "Although Tehran had far more conflict events, Sistan and Baluchestan saw a lot higher fatalities. It is recently being discussed that this predominantly sunni-inhabited province will be divided into smaller provinces [amid high tensions in the region](https://www.iranintl.com/en/202405188549). "
   ]
  },
  {
   "cell_type": "code",
   "execution_count": 83,
   "metadata": {
    "tags": [
     "remove-cell"
    ]
   },
   "outputs": [],
   "source": [
    "acled_events = get_acled_by_admin(iran_adm0, acled, columns=[\"event_type\"])\n",
    "acled_events_daily = get_acled_by_admin(\n",
    "    iran_adm0, acled, columns=[\"event_type\"], freq=\"D\"\n",
    ")"
   ]
  },
  {
   "cell_type": "markdown",
   "metadata": {},
   "source": [
    "### Conflict by Event Type"
   ]
  },
  {
   "cell_type": "code",
   "execution_count": null,
   "metadata": {
    "tags": [
     "remove-input"
    ]
   },
   "outputs": [],
   "source": [
    "output_notebook()\n",
    "bokeh.core.validation.silence(EMPTY_LAYOUT, True)\n",
    "bokeh.core.validation.silence(MISSING_RENDERERS, True)\n",
    "\n",
    "tabs = []\n",
    "conflict_event_type = analysis.get_acled_by_group(data, columns = ['country','event_type'], freq='MS')\n",
    "\n",
    "titles = [\"Number of fatalities\", \"Number of conflict events\"]\n",
    "\n",
    "for idx, type in enumerate([\"nrFatalities\", \"nrEvents\"]):\n",
    "    tabs.append(\n",
    "        TabPanel(\n",
    "            child=visuals.get_line_plot(\n",
    "                conflict_event_type,\n",
    "                f\"{titles[idx]} by event type\",\n",
    "                f\"Source: ACLED. Accessed {datetime.today().date().isoformat()}\",\n",
    "                subtitle=\"\",\n",
    "                category=\"event_type\",\n",
    "                measure=type,\n",
    "            ),\n",
    "            title=type.capitalize(),\n",
    "        )\n",
    "    )\n",
    "\n",
    "tabs = Tabs(tabs=tabs, sizing_mode=\"scale_both\")\n",
    "show(tabs, warn_on_missing_glyphs=False)"
   ]
  },
  {
   "cell_type": "markdown",
   "metadata": {},
   "source": [
    "**The end of 2019 and beginning of 2020 saw the highest number of riots and remote violence within the country, closley followed by riots in 2022.**\n",
    "\n",
    "Conflicts can also be grouped into social unrest which typically include protests and riots and Armed Violence which includes which includes battles, explosions, strategic developments and violence against civilians. Using this grouping, it is seen that political conflict in the country is significantly higher. "
   ]
  },
  {
   "cell_type": "code",
   "execution_count": null,
   "metadata": {
    "tags": [
     "remove-input"
    ]
   },
   "outputs": [],
   "source": [
    "from bokeh.plotting import show, output_notebook\n",
    "import bokeh\n",
    "from bokeh.core.validation.warnings import EMPTY_LAYOUT, MISSING_RENDERERS\n",
    "from bokeh.models import Panel, Tabs, TabPanel\n",
    "\n",
    "output_notebook()\n",
    "\n",
    "bokeh.core.validation.silence(EMPTY_LAYOUT, True)\n",
    "bokeh.core.validation.silence(MISSING_RENDERERS, True)\n",
    "\n",
    "tabs = []\n",
    "measure_names = {\n",
    "    \"nrEvents\": \"Number of Conflict Events\",\n",
    "    \"nrFatalities\": \"Number of Fatalities\",\n",
    "}\n",
    "measure_colors = {\"nrEvents\": \"#4E79A7\", \"nrFatalities\": \"#F28E2B\"}\n",
    "# acled_adm0 = get_acled_by_admin(syria_adm2_crs, acled, columns = ['ADM2_EN', 'ADM1_EN'])\n",
    "for category_type in list(conflict_event_type[\"event_type\"].unique()):\n",
    "    tabs.append(\n",
    "        TabPanel(\n",
    "            child=visuals.get_bar_chart(\n",
    "                conflict_event_type,\n",
    "                f\"Number of {category_type}\",\n",
    "                f\"Source: ACLED. Accessed date {datetime.today().date().isoformat()}\",\n",
    "                subtitle=\"\",\n",
    "                category=\"event_type\",\n",
    "                measure=\"nrEvents\",\n",
    "                color_code=measure_colors[\"nrEvents\"],\n",
    "                category_value=category_type,\n",
    "                #events_dict=events_dict\n",
    "            ),\n",
    "            title=category_type.title(),\n",
    "        )\n",
    "    )\n",
    "\n",
    "tabs = Tabs(tabs=tabs, sizing_mode=\"scale_both\")\n",
    "show(tabs, warn_on_missing_glyphs=False)"
   ]
  },
  {
   "cell_type": "markdown",
   "metadata": {},
   "source": [
    "**What were the protests about?**"
   ]
  },
  {
   "cell_type": "code",
   "execution_count": null,
   "metadata": {
    "tags": [
     "remove-input"
    ]
   },
   "outputs": [],
   "source": [
    "from wordcloud import WordCloud, STOPWORDS\n",
    "import matplotlib.pyplot as plt\n",
    "\n",
    "def generate_word_cloud_from_column(df, column_name, custom_stopwords):\n",
    "    # Combine all the text in the specified column into a single string\n",
    "    text = \" \".join(note for note in df[column_name])\n",
    "\n",
    "    stopwords = set(STOPWORDS)\n",
    "    if custom_stopwords:\n",
    "        stopwords.update(custom_stopwords)  \n",
    "\n",
    "    # Generate the word cloud\n",
    "     # Generate the word cloud, excluding the stopwords\n",
    "    wordcloud = WordCloud(\n",
    "        width=800,\n",
    "        height=400,\n",
    "        background_color=\"white\",\n",
    "        stopwords=stopwords  # Pass the stopwords set here\n",
    "    ).generate(text)\n",
    "\n",
    "\n",
    "    # Plot the word cloud\n",
    "    plt.figure(figsize=(10, 5))\n",
    "    plt.imshow(wordcloud, interpolation=\"bilinear\")\n",
    "    plt.axis(\"off\")  # Hide the axes\n",
    "    plt.show()\n",
    "\n",
    "month_names = [\n",
    "    'January', 'February', 'March', 'April', 'May', \n",
    "    'June', 'July', 'August', 'September', 'October', \n",
    "    'November', 'December'\n",
    "]\n",
    "\n",
    "custom_stopwords = month_names + ['protest', 'protested', 'great', 'front', \n",
    "                    'rally', 'District Tehran', 'Tehran', 'group', 'District', 'held', 'Iran'] \n",
    "# Generate and display the word cloud from the 'notes' column\n",
    "generate_word_cloud_from_column(data[(data['event_type']=='Protests')], 'notes', custom_stopwords)"
   ]
  },
  {
   "cell_type": "markdown",
   "metadata": {},
   "source": [
    "## Limitations\n",
    "\n",
    "ACLED is a crowdsourced dataset. Despite it being verified through local sources, it does not capture all the of the conflicts that occur in the region. "
   ]
  },
  {
   "cell_type": "markdown",
   "metadata": {},
   "source": [
    "## References\n",
    "\n",
    "\n",
    "{cite:empty}`ROMAN2018113`\n",
    "\n",
    "```{bibliography}\n",
    ":filter: docname in docnames\n",
    ":style: plain\n"
   ]
  }
 ],
 "metadata": {
  "kernelspec": {
   "display_name": "conflict",
   "language": "python",
   "name": ".venv"
  },
  "language_info": {
   "codemirror_mode": {
    "name": "ipython",
    "version": 3
   },
   "file_extension": ".py",
   "mimetype": "text/x-python",
   "name": "python",
   "nbconvert_exporter": "python",
   "pygments_lexer": "ipython3",
   "version": "3.12.2"
  }
 },
 "nbformat": 4,
 "nbformat_minor": 4
}
