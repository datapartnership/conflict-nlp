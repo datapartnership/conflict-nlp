{
 "cells": [
  {
   "cell_type": "markdown",
   "id": "8791fb75",
   "metadata": {},
   "source": [
    "# Topic Modeling Comparison: BERTopic with Mistral‑7B‑Instruct pipeline using different prompting techniques "
   ]
  }
 ],
 "metadata": {
  "language_info": {
   "name": "python"
  }
 },
 "nbformat": 4,
 "nbformat_minor": 5
}
