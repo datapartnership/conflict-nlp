{
 "cells": [
  {
   "cell_type": "markdown",
   "id": "d9d3ee1c",
   "metadata": {},
   "source": [
    "# 📘 Topic Modeling on Protests Dataset using Top2Vec\n",
    "\n",
    "This notebook uses **Top2Vec** to perform unsupervised topic modeling on protest descriptions from the **ACLED Iran dataset**. Top2Vec identifies topics by jointly embedding documents and words into a semantic space, allowing for more coherent and context-aware topic discovery.\n",
    "\n",
    "The workflow includes:\n",
    "- Cleaning and preprocessing protest text\n",
    "- Training Top2Vec with various embedding models (e.g., Doc2Vec, Universal Sentence Encoder)\n",
    "- Extracting and visualizing top keywords for each topic\n",
    "- Evaluating the results using **topic coherence** and **topic diversity** metrics\n",
    "\n",
    "This approach highlights nuanced protest themes without the need for extensive preprocessing or pre-defined topic counts, making it suitable for exploratory analysis.\n"
   ]
  },
  {
   "cell_type": "markdown",
   "id": "1aa39e6b",
   "metadata": {},
   "source": [
    "## 📦 Import Libraries"
   ]
  },
  {
   "cell_type": "code",
   "execution_count": 3,
   "id": "e34c017e",
   "metadata": {},
   "outputs": [
    {
     "name": "stderr",
     "output_type": "stream",
     "text": [
      "2025-04-25 02:16:14.224414: E external/local_xla/xla/stream_executor/cuda/cuda_fft.cc:467] Unable to register cuFFT factory: Attempting to register factory for plugin cuFFT when one has already been registered\n",
      "WARNING: All log messages before absl::InitializeLog() is called are written to STDERR\n",
      "E0000 00:00:1745547374.244733   10511 cuda_dnn.cc:8579] Unable to register cuDNN factory: Attempting to register factory for plugin cuDNN when one has already been registered\n",
      "E0000 00:00:1745547374.251004   10511 cuda_blas.cc:1407] Unable to register cuBLAS factory: Attempting to register factory for plugin cuBLAS when one has already been registered\n",
      "W0000 00:00:1745547374.267353   10511 computation_placer.cc:177] computation placer already registered. Please check linkage and avoid linking the same target more than once.\n",
      "W0000 00:00:1745547374.267370   10511 computation_placer.cc:177] computation placer already registered. Please check linkage and avoid linking the same target more than once.\n",
      "W0000 00:00:1745547374.267372   10511 computation_placer.cc:177] computation placer already registered. Please check linkage and avoid linking the same target more than once.\n",
      "W0000 00:00:1745547374.267374   10511 computation_placer.cc:177] computation placer already registered. Please check linkage and avoid linking the same target more than once.\n",
      "2025-04-25 02:16:14.272565: I tensorflow/core/platform/cpu_feature_guard.cc:210] This TensorFlow binary is optimized to use available CPU instructions in performance-critical operations.\n",
      "To enable the following instructions: AVX2 FMA, in other operations, rebuild TensorFlow with the appropriate compiler flags.\n",
      "[nltk_data] Downloading package stopwords to /home/ubuntu/nltk_data...\n",
      "[nltk_data]   Package stopwords is already up-to-date!\n"
     ]
    }
   ],
   "source": [
    "import numpy as np\n",
    "import pandas as pd\n",
    "import nltk\n",
    "from nltk.corpus import stopwords\n",
    "from gensim.utils import simple_preprocess\n",
    "from gensim.models import CoherenceModel\n",
    "from top2vec import Top2Vec\n",
    "import matplotlib.pyplot as plt\n",
    "from gensim.corpora import Dictionary\n",
    "import re\n",
    "\n",
    "nltk.download('stopwords')\n",
    "stop_words = set(stopwords.words('english'))\n"
   ]
  },
  {
   "cell_type": "markdown",
   "id": "7beee1cc",
   "metadata": {},
   "source": [
    "## 📂 Load Data"
   ]
  },
  {
   "cell_type": "code",
   "execution_count": 4,
   "id": "903fb919",
   "metadata": {},
   "outputs": [
    {
     "name": "stdout",
     "output_type": "stream",
     "text": [
      "  event_id_cnty        event_date  year  time_precision   disorder_type event_type    sub_event_type             actor1          assoc_actor_1      inter1 actor2 assoc_actor_2 inter2      interaction civilian_targeting  iso       region country                     admin1         admin2   admin3              location  latitude  longitude  geo_precision                                                                              source             source_scale                                                                                                                                                                                                                                                                                                              notes  fatalities                  tags   timestamp\n",
      "0      IRN30318  06 February 2025  2025               1  Demonstrations   Protests  Peaceful protest  Protesters (Iran)  Health Workers (Iran)  Protesters    NaN           NaN    NaN  Protesters only                NaN  364  Middle East    Iran  Chaharmahal and Bakhtiari       Lordegan  Central              Lordegan   31.5134    50.8267              1                                                                       Eteraze Bazar                New media                                                                                                                     On 6 February 2025, nurses and health workers held a rally in front of the Shohada Hospital in Lordegan city (Lordegan, Chaharmahal and Bakhtiari) over the shortage of staff and long shifts.           0  crowd size=no report  1739238781\n",
      "1      IRN30319  06 February 2025  2025               1  Demonstrations   Protests  Peaceful protest  Protesters (Iran)     Labor Group (Iran)  Protesters    NaN           NaN    NaN  Protesters only                NaN  364  Middle East    Iran                  Hormozgan  Bandar-Lengeh     Kish          Lavan Island   26.8074    53.3741              1                                 Eteraze Bazar; Human Rights Activists in Iran (HRA)      Local partner-Other  On 6 February 2025, Continental Plateau Oil Company employees under the Ministry of Petroleum protested on the Salman oil platform in Lavan Island (Bandar-Lengeh, Hormozgan) to demand the removal of the salary cap, the removal of the limitation of retirement years and the return of excess tax deductions.           0  crowd size=no report  1739238781\n",
      "2      IRN30314  05 February 2025  2025               1  Demonstrations   Protests  Peaceful protest  Protesters (Iran)     Labor Group (Iran)  Protesters    NaN           NaN    NaN  Protesters only                NaN  364  Middle East    Iran                  Khuzestan          Ahvaz  Central                 Ahvaz   31.3190    48.6842              1                 Free Union of Iranian Workers; Human Rights Activists in Iran (HRA)      Local partner-Other                                                      On 5 February 2025, workers at the Telecommunication Infrastructure Company protested in front of the provincial governor's office in Ahvaz city (Ahvaz, Khuzestan) to demand the changing of their job status and the equalization of salaries and benefits.           0  crowd size=no report  1739238781\n",
      "3      IRN30315  05 February 2025  2025               1  Demonstrations   Protests  Peaceful protest  Protesters (Iran)                    NaN  Protesters    NaN           NaN    NaN  Protesters only                NaN  364  Middle East    Iran                     Tehran         Tehran  Central  Tehran - District 12   35.6810    51.4291              1  Eteraze Bazar; Free Union of Iranian Workers; Human Rights Activists in Iran (HRA)      Local partner-Other                                                               On 5 February 2025, investors of Cryptoland Digital Exchange who lost their investments staged a rally in front of the Public Communications Office of Judiciary in Tehran - District 12 (Tehran, Tehran) to demand the return of their investments.           0  crowd size=no report  1739238781\n",
      "4      IRN30316  05 February 2025  2025               1  Demonstrations   Protests  Peaceful protest  Protesters (Iran)                    NaN  Protesters    NaN           NaN    NaN  Protesters only                NaN  364  Middle East    Iran                     Tehran         Tehran  Central  Tehran - District 12   35.6810    51.4291              1                                                   Eteraze Bazar; Iran International  New media-International                                        On 5 February 2025, landowners at the 33 lands of North-East Tehran project held a rally in front of the Islamic Consultative Assembly - Iranian Parliament in Tehran - District 12 (Tehran, Tehran) to demand an end to the uncertainty of their contracts after 34 years.           0  crowd size=no report  1739238781\n"
     ]
    }
   ],
   "source": [
    "file_path = r\"/home/ubuntu/Capstone_Files/data/ACELD_Iran.csv\"\n",
    "df = pd.read_csv(file_path, sep=';')\n",
    "print(df.head().to_string())\n"
   ]
  },
  {
   "cell_type": "markdown",
   "id": "ed9c5ffe",
   "metadata": {},
   "source": [
    "## 📝 Extract and Filter Protest Texts"
   ]
  },
  {
   "cell_type": "code",
   "execution_count": 8,
   "id": "c42d0fa4",
   "metadata": {},
   "outputs": [],
   "source": [
    "texts = df['notes'].dropna().astype(str).tolist()\n",
    "\n",
    "protest_keywords = set([\"protest\", \"strike\", \"rally\", \"demonstration\", \"march\", \"boycott\", \"sit-in\", \"petition\"])\n",
    " # Truncated for brevity, full list in code\n",
    "filtered_texts = [text for text in texts if any(word in text.lower() for word in protest_keywords)]\n"
   ]
  },
  {
   "cell_type": "markdown",
   "id": "ace5083c",
   "metadata": {},
   "source": [
    "## 🧹 Preprocess Texts"
   ]
  },
  {
   "cell_type": "code",
   "execution_count": 9,
   "id": "0a04cd4b",
   "metadata": {},
   "outputs": [],
   "source": [
    "custom_stopwords = set(stopwords.words('english')).union(protest_keywords)\n",
    "\n",
    "def preprocess(text):\n",
    "    text = text.lower()\n",
    "    text = re.sub(r'\\d+', '', text)\n",
    "    text = re.sub(r'[^\\w\\s]', '', text)\n",
    "    text = re.sub(r'\\s+', ' ', text).strip()\n",
    "    tokens = simple_preprocess(text, deacc=True)\n",
    "    tokens = [word for word in tokens if word not in custom_stopwords and len(word) > 2]\n",
    "    return \" \".join(tokens)\n",
    "\n",
    "cleaned_texts = [preprocess(text) for text in filtered_texts if preprocess(text) != \"\"]\n"
   ]
  },
  {
   "cell_type": "markdown",
   "id": "c9812154",
   "metadata": {},
   "source": [
    "## 📏 Define Coherence Scoring"
   ]
  },
  {
   "cell_type": "markdown",
   "id": "632072d0",
   "metadata": {},
   "source": [
    "### 📈 C_V Coherence Score: What it is\n",
    "\n",
    "The **C_V Coherence Score** evaluates how semantically meaningful and internally consistent a topic is. It combines two important dimensions:\n",
    "\n",
    "- **Co-occurrence Frequency**: How often the top words appear together in the original texts (using a sliding window).\n",
    "- **Semantic Similarity**: How closely related the top words are in meaning, based on cosine similarity of their word embeddings.\n",
    "\n",
    "A **higher C_V score** means:\n",
    "- The topic’s top words frequently occur together in the texts.\n",
    "- The words are more semantically coherent.\n",
    "\n",
    "The C_V score leverages **Normalized Pointwise Mutual Information (NPMI)** and cosine similarity to assess topic coherence.\n",
    "\n",
    "---\n",
    "\n",
    "### 🧮 Formula (Conceptual)\n",
    "\n",
    "Let:\n",
    "- \\( W = \\{w_1, w_2, \\dots, w_k\\} \\) : the top-k words in a topic\n",
    "- \\( \\text{NPMI}(w_i, w_j) \\) : the Normalized Pointwise Mutual Information between \\( w_i \\) and \\( w_j \\)\n",
    "- \\( \\text{Sim}(w_i, w_j) \\) : the semantic similarity (e.g., cosine similarity) between word embeddings of \\( w_i \\) and \\( w_j \\)\n",
    "\n",
    "Then the C_V score is computed as an **aggregated combination** of:\n",
    "\n",
    "$$\n",
    "\\\\text{C}_V = \\\\frac{1}{|W|^2} \\\\sum_{i,j} \\\\text{NPMI}(w_i, w_j) \\\\times \\\\text{Sim}(w_i, w_j)\n",
    "$$\n",
    "\n",
    "> *Note*: Exact implementation may vary depending on the library used (e.g., Gensim), but the conceptual components remain the same.\n",
    "\n",
    "\n"
   ]
  },
  {
   "cell_type": "code",
   "execution_count": 10,
   "id": "35d69af1",
   "metadata": {},
   "outputs": [],
   "source": [
    "def calculate_coherence_score(model, texts):\n",
    "    tokenized_texts = [text.split() for text in texts]\n",
    "    dictionary = Dictionary(tokenized_texts)\n",
    "    topic_words, _, _ = model.get_topics()\n",
    "    topics = [list(topic) for topic in topic_words]\n",
    "    coherence_model = CoherenceModel(topics=topics, texts=tokenized_texts, dictionary=dictionary, coherence='c_v')\n",
    "    return coherence_model.get_coherence()\n"
   ]
  },
  {
   "cell_type": "markdown",
   "id": "3ffc0ecc",
   "metadata": {},
   "source": [
    "📊 Topic Diversity (Top2Vec)\n",
    "What it is:\n",
    "\n",
    "Topic Diversity measures how distinct the top words are across all discovered topics. A higher score suggests that each topic captures a unique theme, with less repetition of keywords between topics.\n",
    "\n",
    "For Top2Vec, which automatically identifies the number of topics and generates top keywords per topic based on document embeddings, this metric is useful for evaluating how semantically diverse the topics are.\n",
    "\n",
    "**Formula:**  \n",
    "\n",
    "Let \\( T \\) = number of topics  \n",
    "Let \\( k \\) = number of top words per topic  \n",
    "Let \\( W_t \\) = set of top‑k words for topic \\( t \\)\n",
    "\n",
    "Then, Topic Diversity is calculated as:\n",
    "\n",
    "$$\n",
    "\\text{Diversity} = \\frac{\\left|\\bigcup_{t=1}^{T} W_t\\right|}{T \\times k}\n",
    "$$\n",
    "\n",
    "A value of 1.0 means all topics have completely unique top words (no overlap), while lower values indicate overlapping or redundant topic terms.\n"
   ]
  },
  {
   "cell_type": "code",
   "execution_count": 25,
   "id": "cb5f1f61",
   "metadata": {},
   "outputs": [],
   "source": [
    "def compute_topic_diversity(topics_words, topk=10):\n",
    "    \"\"\"\n",
    "    Compute topic diversity score for Top2Vec output.\n",
    "    \n",
    "    Input:\n",
    "        topics_words (List[List[str]] or ndarray): List of topic keyword lists\n",
    "        topk (int): Number of top words per topic to consider\n",
    "    \n",
    "    Output:\n",
    "        float: Topic diversity score (unique words / total words)\n",
    "    \"\"\"\n",
    "    # Ensure words are strings and limit to top-k\n",
    "    top_words_per_topic = [set(map(str, topic[:topk])) for topic in topics_words]\n",
    "    \n",
    "    # Flatten all words\n",
    "    all_top_words = [word for topic in top_words_per_topic for word in topic]\n",
    "    unique_words = set(all_top_words)\n",
    "    \n",
    "    return len(unique_words) / (len(top_words_per_topic) * topk)\n"
   ]
  },
  {
   "cell_type": "markdown",
   "id": "980bd67f",
   "metadata": {},
   "source": [
    "## 🧠 Train Top2Vec Models and Evaluate"
   ]
  },
  {
   "cell_type": "code",
   "execution_count": 29,
   "id": "d972134e",
   "metadata": {},
   "outputs": [
    {
     "name": "stderr",
     "output_type": "stream",
     "text": [
      "2025-04-25 03:53:07,318 - top2vec - INFO - Pre-processing documents for training\n",
      "INFO:top2vec:Pre-processing documents for training\n"
     ]
    },
    {
     "name": "stdout",
     "output_type": "stream",
     "text": [
      "Evaluating model: universal-sentence-encoder\n"
     ]
    },
    {
     "name": "stderr",
     "output_type": "stream",
     "text": [
      "/home/ubuntu/.virtualenvs/Capstone_Project/lib/python3.12/site-packages/sklearn/feature_extraction/text.py:517: UserWarning: The parameter 'token_pattern' will not be used since 'tokenizer' is not None'\n",
      "  warnings.warn(\n",
      "2025-04-25 03:53:08,403 - top2vec - INFO - Downloading universal-sentence-encoder model\n",
      "INFO:top2vec:Downloading universal-sentence-encoder model\n",
      "2025-04-25 03:53:12,058 - top2vec - INFO - Creating joint document/word embedding\n",
      "INFO:top2vec:Creating joint document/word embedding\n",
      "2025-04-25 03:53:16,896 - top2vec - INFO - Creating lower dimension embedding of documents\n",
      "INFO:top2vec:Creating lower dimension embedding of documents\n",
      "/home/ubuntu/.virtualenvs/Capstone_Project/lib/python3.12/site-packages/sklearn/utils/deprecation.py:151: FutureWarning: 'force_all_finite' was renamed to 'ensure_all_finite' in 1.6 and will be removed in 1.8.\n",
      "  warnings.warn(\n",
      "2025-04-25 03:53:23,384 - top2vec - INFO - Finding dense areas of documents\n",
      "INFO:top2vec:Finding dense areas of documents\n",
      "/home/ubuntu/.virtualenvs/Capstone_Project/lib/python3.12/site-packages/sklearn/utils/deprecation.py:151: FutureWarning: 'force_all_finite' was renamed to 'ensure_all_finite' in 1.6 and will be removed in 1.8.\n",
      "  warnings.warn(\n",
      "/home/ubuntu/.virtualenvs/Capstone_Project/lib/python3.12/site-packages/sklearn/utils/deprecation.py:151: FutureWarning: 'force_all_finite' was renamed to 'ensure_all_finite' in 1.6 and will be removed in 1.8.\n",
      "  warnings.warn(\n",
      "2025-04-25 03:53:25,351 - top2vec - INFO - Finding topics\n",
      "INFO:top2vec:Finding topics\n",
      "2025-04-25 03:53:33,346 - top2vec - INFO - Pre-processing documents for training\n",
      "INFO:top2vec:Pre-processing documents for training\n"
     ]
    },
    {
     "name": "stdout",
     "output_type": "stream",
     "text": [
      "Coherence Score for universal-sentence-encoder: 0.4057\n",
      "Topic Diversity Score for universal-sentence-encoder: 1.0000\n",
      "------------------------------------------------------------\n",
      "Evaluating model: doc2vec\n"
     ]
    },
    {
     "name": "stderr",
     "output_type": "stream",
     "text": [
      "2025-04-25 03:53:34,259 - top2vec - INFO - Creating joint document/word embedding\n",
      "INFO:top2vec:Creating joint document/word embedding\n",
      "2025-04-25 04:13:52,139 - top2vec - INFO - Creating lower dimension embedding of documents\n",
      "INFO:top2vec:Creating lower dimension embedding of documents\n",
      "/home/ubuntu/.virtualenvs/Capstone_Project/lib/python3.12/site-packages/sklearn/utils/deprecation.py:151: FutureWarning: 'force_all_finite' was renamed to 'ensure_all_finite' in 1.6 and will be removed in 1.8.\n",
      "  warnings.warn(\n",
      "2025-04-25 04:13:56,942 - top2vec - INFO - Finding dense areas of documents\n",
      "INFO:top2vec:Finding dense areas of documents\n",
      "/home/ubuntu/.virtualenvs/Capstone_Project/lib/python3.12/site-packages/sklearn/utils/deprecation.py:151: FutureWarning: 'force_all_finite' was renamed to 'ensure_all_finite' in 1.6 and will be removed in 1.8.\n",
      "  warnings.warn(\n",
      "/home/ubuntu/.virtualenvs/Capstone_Project/lib/python3.12/site-packages/sklearn/utils/deprecation.py:151: FutureWarning: 'force_all_finite' was renamed to 'ensure_all_finite' in 1.6 and will be removed in 1.8.\n",
      "  warnings.warn(\n",
      "2025-04-25 04:13:58,986 - top2vec - INFO - Finding topics\n",
      "INFO:top2vec:Finding topics\n"
     ]
    },
    {
     "name": "stdout",
     "output_type": "stream",
     "text": [
      "Coherence Score for doc2vec: 0.5476\n",
      "Topic Diversity Score for doc2vec: 1.0000\n",
      "------------------------------------------------------------\n"
     ]
    },
    {
     "data": {
      "image/png": "[encoded data removed]",
      "text/plain": [
       "<Figure size 1000x500 with 1 Axes>"
      ]
     },
     "metadata": {},
     "output_type": "display_data"
    },
    {
     "data": {
      "image/png": "[encoded data removed]",
      "text/plain": [
       "<Figure size 1000x500 with 1 Axes>"
      ]
     },
     "metadata": {},
     "output_type": "display_data"
    }
   ],
   "source": [
    "import matplotlib.pyplot as plt\n",
    "\n",
    "embedding_models = ['universal-sentence-encoder', 'doc2vec']\n",
    "coherence_scores = []\n",
    "diversity_scores = []\n",
    "\n",
    "for model_name in embedding_models:\n",
    "    print(f\"Evaluating model: {model_name}\")\n",
    "    \n",
    "    # Train Top2Vec model\n",
    "    model = Top2Vec(\n",
    "        documents=cleaned_texts,\n",
    "        embedding_model=model_name,\n",
    "        speed=\"deep-learn\",\n",
    "        workers=8\n",
    "    )\n",
    "\n",
    "    # Calculate coherence score\n",
    "    coherence_score = calculate_coherence_score(model, cleaned_texts)\n",
    "    coherence_scores.append(coherence_score)\n",
    "\n",
    "    # Calculate topic diversity score\n",
    "    topic_words = model.get_topics()\n",
    "    diversity_score = compute_topic_diversity(topic_words, topk=10)\n",
    "    diversity_scores.append(diversity_score)\n",
    "\n",
    "    print(f\"Coherence Score for {model_name}: {coherence_score:.4f}\")\n",
    "    print(f\"Topic Diversity Score for {model_name}: {diversity_score:.4f}\")\n",
    "    print(\"-\" * 60)\n",
    "\n",
    "# Plotting results\n",
    "plt.figure(figsize=(10, 5))\n",
    "plt.bar(embedding_models, coherence_scores)\n",
    "plt.title(\"Coherence Score by Embedding Model\")\n",
    "plt.ylabel(\"Coherence Score\")\n",
    "plt.xlabel(\"Embedding Model\")\n",
    "plt.ylim(0, 1)\n",
    "plt.grid(axis='y')\n",
    "plt.tight_layout()\n",
    "plt.show()\n",
    "\n",
    "plt.figure(figsize=(10, 5))\n",
    "plt.bar(embedding_models, diversity_scores)\n",
    "plt.title(\"Topic Diversity Score by Embedding Model\")\n",
    "plt.ylabel(\"Topic Diversity Score\")\n",
    "plt.xlabel(\"Embedding Model\")\n",
    "plt.ylim(0, 1.1)\n",
    "plt.grid(axis='y')\n",
    "plt.tight_layout()\n",
    "plt.show()\n"
   ]
  }
 ],
 "metadata": {
  "kernelspec": {
   "display_name": "Capstone_Project",
   "language": "python",
   "name": "python3"
  },
  "language_info": {
   "codemirror_mode": {
    "name": "ipython",
    "version": 3
   },
   "file_extension": ".py",
   "mimetype": "text/x-python",
   "name": "python",
   "nbconvert_exporter": "python",
   "pygments_lexer": "ipython3",
   "version": "3.12.3"
  }
 },
 "nbformat": 4,
 "nbformat_minor": 5
}
